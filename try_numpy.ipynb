{
  "nbformat": 4,
  "nbformat_minor": 0,
  "metadata": {
    "colab": {
      "name": "try_numpy.ipynb",
      "version": "0.3.2",
      "provenance": [],
      "collapsed_sections": [],
      "include_colab_link": true
    },
    "kernelspec": {
      "name": "python3",
      "display_name": "Python 3"
    }
  },
  "cells": [
    {
      "cell_type": "markdown",
      "metadata": {
        "id": "view-in-github",
        "colab_type": "text"
      },
      "source": [
        "<a href=\"https://colab.research.google.com/github/himiku/mafiai/blob/master/try_numpy.ipynb\" target=\"_parent\"><img src=\"https://colab.research.google.com/assets/colab-badge.svg\" alt=\"Open In Colab\"/></a>"
      ]
    },
    {
      "cell_type": "code",
      "metadata": {
        "id": "RCIukh464diR",
        "colab_type": "code",
        "colab": {}
      },
      "source": [
        "import numpy as np"
      ],
      "execution_count": 0,
      "outputs": []
    },
    {
      "cell_type": "code",
      "metadata": {
        "id": "VKB4UG3Y5SFI",
        "colab_type": "code",
        "colab": {}
      },
      "source": [
        "arr2D = np.array([[1,2,3],[2,3,4]])\n",
        "arr1D = np.array([3,4,5])\n",
        "\n",
        "# matix computational example\n",
        "# arr2D = np.matrix([[1,2,3],[2,3,4]])\n",
        "# arr1D = np.matrix([[3],[4],[5]])"
      ],
      "execution_count": 0,
      "outputs": []
    },
    {
      "cell_type": "markdown",
      "metadata": {
        "id": "bFJRWuPR6dXG",
        "colab_type": "text"
      },
      "source": [
        "[[a   b],[c   d]]  x   [[x],[y]] = [[ax+by],[cx+dy]]   \n",
        "\n",
        "   \n",
        "\n",
        "\n",
        "> [[1,2,3],[4,5,6]] x [[1].[2],[3]] = [[1.1+2.2+3.3],[4.1+5.2+6.3]] = [[14],[32]]\n",
        "\n"
      ]
    },
    {
      "cell_type": "code",
      "metadata": {
        "id": "J2uto5G35vVn",
        "colab_type": "code",
        "colab": {
          "base_uri": "https://localhost:8080/",
          "height": 34
        },
        "outputId": "373e55bb-8954-4f04-f53c-d730bfea726a"
      },
      "source": [
        "#try multitple\n",
        "arr2D.dot(arr1D)  #arr2D * arr1D"
      ],
      "execution_count": 9,
      "outputs": [
        {
          "output_type": "execute_result",
          "data": {
            "text/plain": [
              "array([26, 38])"
            ]
          },
          "metadata": {
            "tags": []
          },
          "execution_count": 9
        }
      ]
    },
    {
      "cell_type": "code",
      "metadata": {
        "id": "GbJOiiYA8Itu",
        "colab_type": "code",
        "colab": {
          "base_uri": "https://localhost:8080/",
          "height": 69
        },
        "outputId": "536f0e01-634c-4a4e-f414-63d61513f056"
      },
      "source": [
        "#try reshape\n",
        "arr2D.shape\n",
        "#arr2D.reshape(3,2)"
      ],
      "execution_count": 13,
      "outputs": [
        {
          "output_type": "execute_result",
          "data": {
            "text/plain": [
              "array([[1, 2],\n",
              "       [3, 2],\n",
              "       [3, 4]])"
            ]
          },
          "metadata": {
            "tags": []
          },
          "execution_count": 13
        }
      ]
    }
  ]
}