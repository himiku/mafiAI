{
  "nbformat": 4,
  "nbformat_minor": 0,
  "metadata": {
    "colab": {
      "name": "try_numpy.ipynb",
      "version": "0.3.2",
      "provenance": [],
      "collapsed_sections": [],
      "include_colab_link": true
    },
    "kernelspec": {
      "name": "python3",
      "display_name": "Python 3"
    }
  },
  "cells": [
    {
      "cell_type": "markdown",
      "metadata": {
        "id": "view-in-github",
        "colab_type": "text"
      },
      "source": [
        "<a href=\"https://colab.research.google.com/github/himiku/mafiai/blob/master/try_numpy.ipynb\" target=\"_parent\"><img src=\"https://colab.research.google.com/assets/colab-badge.svg\" alt=\"Open In Colab\"/></a>"
      ]
    },
    {
      "cell_type": "code",
      "metadata": {
        "id": "RCIukh464diR",
        "colab_type": "code",
        "colab": {}
      },
      "source": [
        "import numpy as np"
      ],
      "execution_count": 0,
      "outputs": []
    },
    {
      "cell_type": "code",
      "metadata": {
        "id": "VKB4UG3Y5SFI",
        "colab_type": "code",
        "colab": {}
      },
      "source": [
        "arr2D = np.array([[1,2,3],[2,3,4]])\n",
        "arr1D = np.array([3,4,5])\n",
        "\n",
        "# matix computational example\n",
        "# arr2D = np.matrix([[1,2,3],[2,3,4]])\n",
        "# arr1D = np.matrix([[3],[4],[5]])"
      ],
      "execution_count": 0,
      "outputs": []
    },
    {
      "cell_type": "markdown",
      "metadata": {
        "id": "bFJRWuPR6dXG",
        "colab_type": "text"
      },
      "source": [
        "[[a   b],[c   d]]  x   [[x],[y]] = [[ax+by],[cx+dy]]   \n",
        "\n",
        "   \n",
        "\n",
        "\n",
        "> [[1,2,3],[4,5,6]] x [[1].[2],[3]] = [[1.1+2.2+3.3],[4.1+5.2+6.3]] = [[14],[32]]\n",
        "\n"
      ]
    },
    {
      "cell_type": "code",
      "metadata": {
        "id": "J2uto5G35vVn",
        "colab_type": "code",
        "outputId": "ab5ff2cf-9faa-48d5-b6a6-f0610d959868",
        "colab": {
          "base_uri": "https://localhost:8080/",
          "height": 52
        }
      },
      "source": [
        "#try multitple\n",
        "#arr2D.dot(arr1D)  \n",
        "arr2D * arr1D"
      ],
      "execution_count": 5,
      "outputs": [
        {
          "output_type": "execute_result",
          "data": {
            "text/plain": [
              "array([[ 3,  8, 15],\n",
              "       [ 6, 12, 20]])"
            ]
          },
          "metadata": {
            "tags": []
          },
          "execution_count": 5
        }
      ]
    },
    {
      "cell_type": "code",
      "metadata": {
        "id": "9obMnBB-B2-o",
        "colab_type": "code",
        "colab": {
          "base_uri": "https://localhost:8080/",
          "height": 52
        },
        "outputId": "e38c5e24-f194-4e2c-c724-6ace606e32c5"
      },
      "source": [
        "#dtype\n",
        "arr2D.dtype\n",
        "arr2D.astype('float64')"
      ],
      "execution_count": 27,
      "outputs": [
        {
          "output_type": "execute_result",
          "data": {
            "text/plain": [
              "array([[1., 2., 3.],\n",
              "       [2., 3., 4.]])"
            ]
          },
          "metadata": {
            "tags": []
          },
          "execution_count": 27
        }
      ]
    },
    {
      "cell_type": "code",
      "metadata": {
        "id": "GbJOiiYA8Itu",
        "colab_type": "code",
        "outputId": "0877e667-b039-417b-bebe-6b0de745eb14",
        "colab": {
          "base_uri": "https://localhost:8080/",
          "height": 104
        }
      },
      "source": [
        "#try reshape\n",
        "print(arr2D.shape)\n",
        "print(arr1D.shape)\n",
        "arr2D.reshape(3,2)"
      ],
      "execution_count": 13,
      "outputs": [
        {
          "output_type": "stream",
          "text": [
            "(2, 3)\n",
            "(3,)\n"
          ],
          "name": "stdout"
        },
        {
          "output_type": "execute_result",
          "data": {
            "text/plain": [
              "array([[1, 2],\n",
              "       [3, 2],\n",
              "       [3, 4]])"
            ]
          },
          "metadata": {
            "tags": []
          },
          "execution_count": 13
        }
      ]
    },
    {
      "cell_type": "code",
      "metadata": {
        "id": "p912Rgt9-sS-",
        "colab_type": "code",
        "colab": {
          "base_uri": "https://localhost:8080/",
          "height": 52
        },
        "outputId": "272668f3-5f52-45de-99a7-949021004b6a"
      },
      "source": [
        "#numpy matrix array generator\n",
        "np.zeros((3,3))\n",
        "np.ones((3,3))\n",
        "np.arange(1,10,2)\n",
        "np.linspace(1,10,6)\n",
        "np.random.random((3,3))\n",
        "np.random.randint(1,10,(2,3))"
      ],
      "execution_count": 31,
      "outputs": [
        {
          "output_type": "execute_result",
          "data": {
            "text/plain": [
              "array([[8, 3, 4],\n",
              "       [4, 3, 3]])"
            ]
          },
          "metadata": {
            "tags": []
          },
          "execution_count": 31
        }
      ]
    },
    {
      "cell_type": "code",
      "metadata": {
        "id": "cwYWBIz0C4Eu",
        "colab_type": "code",
        "colab": {
          "base_uri": "https://localhost:8080/",
          "height": 34
        },
        "outputId": "539d2eed-5ed7-4e86-d178-a5b979c1e6e9"
      },
      "source": [
        "#etc method\n",
        "arr2D.min()\n",
        "arr2D.max()\n",
        "arr2D.mean() #rata-rata\n",
        "arr2D.std()\n",
        "arr2D.var()"
      ],
      "execution_count": 39,
      "outputs": [
        {
          "output_type": "execute_result",
          "data": {
            "text/plain": [
              "0.9166666666666666"
            ]
          },
          "metadata": {
            "tags": []
          },
          "execution_count": 39
        }
      ]
    }
  ]
}